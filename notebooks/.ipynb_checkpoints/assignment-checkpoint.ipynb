{
 "cells": [
  {
   "cell_type": "code",
   "execution_count": 16,
   "id": "b7d539a5",
   "metadata": {},
   "outputs": [],
   "source": [
    "import pandas as pd"
   ]
  },
  {
   "cell_type": "code",
   "execution_count": 17,
   "id": "b61eb375",
   "metadata": {},
   "outputs": [],
   "source": [
    "df = pd.read_csv('../datasets/asignmentpy.csv')"
   ]
  },
  {
   "cell_type": "code",
   "execution_count": 18,
   "id": "93a27c1a",
   "metadata": {
    "scrolled": true
   },
   "outputs": [
    {
     "data": {
      "text/html": [
       "<div>\n",
       "<style scoped>\n",
       "    .dataframe tbody tr th:only-of-type {\n",
       "        vertical-align: middle;\n",
       "    }\n",
       "\n",
       "    .dataframe tbody tr th {\n",
       "        vertical-align: top;\n",
       "    }\n",
       "\n",
       "    .dataframe thead th {\n",
       "        text-align: right;\n",
       "    }\n",
       "</style>\n",
       "<table border=\"1\" class=\"dataframe\">\n",
       "  <thead>\n",
       "    <tr style=\"text-align: right;\">\n",
       "      <th></th>\n",
       "      <th>Taxon</th>\n",
       "      <th>Unnamed: 1</th>\n",
       "      <th>Habitat</th>\n",
       "      <th>Unnamed: 3</th>\n",
       "      <th>Diet</th>\n",
       "      <th>Unnamed: 5</th>\n",
       "      <th>Bodyweight</th>\n",
       "      <th>BMR</th>\n",
       "    </tr>\n",
       "  </thead>\n",
       "  <tbody>\n",
       "    <tr>\n",
       "      <th>0</th>\n",
       "      <td>Tachyglossus</td>\n",
       "      <td>aculeatus</td>\n",
       "      <td>Terrestrial</td>\n",
       "      <td>NaN</td>\n",
       "      <td>Invertebrates</td>\n",
       "      <td>NaN</td>\n",
       "      <td>3410.0</td>\n",
       "      <td>0.17</td>\n",
       "    </tr>\n",
       "    <tr>\n",
       "      <th>1</th>\n",
       "      <td>Ornithorhynchus</td>\n",
       "      <td>anatinus</td>\n",
       "      <td>Aquatic</td>\n",
       "      <td>NaN</td>\n",
       "      <td>Invertebrates</td>\n",
       "      <td>NaN</td>\n",
       "      <td>690.0</td>\n",
       "      <td>0.31</td>\n",
       "    </tr>\n",
       "    <tr>\n",
       "      <th>2</th>\n",
       "      <td>Marmosa</td>\n",
       "      <td>microtarsus</td>\n",
       "      <td>Arboreal</td>\n",
       "      <td>NaN</td>\n",
       "      <td>Invertebrates</td>\n",
       "      <td>NaN</td>\n",
       "      <td>14.5</td>\n",
       "      <td>1.79</td>\n",
       "    </tr>\n",
       "    <tr>\n",
       "      <th>3</th>\n",
       "      <td>Didelphis</td>\n",
       "      <td>marsupialis</td>\n",
       "      <td>Terrestrial</td>\n",
       "      <td>NaN</td>\n",
       "      <td>Omnivorous</td>\n",
       "      <td>NaN</td>\n",
       "      <td>1350.0</td>\n",
       "      <td>0.45</td>\n",
       "    </tr>\n",
       "    <tr>\n",
       "      <th>4</th>\n",
       "      <td>Planigale</td>\n",
       "      <td>gilesi</td>\n",
       "      <td>Terrestrial</td>\n",
       "      <td>NaN</td>\n",
       "      <td>Invertebrates</td>\n",
       "      <td>NaN</td>\n",
       "      <td>9.4</td>\n",
       "      <td>1.40</td>\n",
       "    </tr>\n",
       "    <tr>\n",
       "      <th>...</th>\n",
       "      <td>...</td>\n",
       "      <td>...</td>\n",
       "      <td>...</td>\n",
       "      <td>...</td>\n",
       "      <td>...</td>\n",
       "      <td>...</td>\n",
       "      <td>...</td>\n",
       "      <td>...</td>\n",
       "    </tr>\n",
       "    <tr>\n",
       "      <th>259</th>\n",
       "      <td>Lepus</td>\n",
       "      <td>timidus</td>\n",
       "      <td>Terrestrial</td>\n",
       "      <td>NaN</td>\n",
       "      <td>Grass</td>\n",
       "      <td>NaN</td>\n",
       "      <td>3004.0</td>\n",
       "      <td>0.36</td>\n",
       "    </tr>\n",
       "    <tr>\n",
       "      <th>260</th>\n",
       "      <td>Sylvilagus</td>\n",
       "      <td>audubonii</td>\n",
       "      <td>Terrestrial</td>\n",
       "      <td>NaN</td>\n",
       "      <td>Grass</td>\n",
       "      <td>NaN</td>\n",
       "      <td>702.0</td>\n",
       "      <td>0.63</td>\n",
       "    </tr>\n",
       "    <tr>\n",
       "      <th>261</th>\n",
       "      <td>Elephantulus</td>\n",
       "      <td>edwardii</td>\n",
       "      <td>Terrestrial</td>\n",
       "      <td>NaN</td>\n",
       "      <td>Invertebrates</td>\n",
       "      <td>NaN</td>\n",
       "      <td>50.0</td>\n",
       "      <td>1.09</td>\n",
       "    </tr>\n",
       "    <tr>\n",
       "      <th>262</th>\n",
       "      <td>Elephantulus</td>\n",
       "      <td>rugescens</td>\n",
       "      <td>Terrestrial</td>\n",
       "      <td>NaN</td>\n",
       "      <td>Invertebrates</td>\n",
       "      <td>NaN</td>\n",
       "      <td>53.0</td>\n",
       "      <td>1.07</td>\n",
       "    </tr>\n",
       "    <tr>\n",
       "      <th>263</th>\n",
       "      <td>Petrodromus</td>\n",
       "      <td>tetradactylus</td>\n",
       "      <td>Terrestrial</td>\n",
       "      <td>NaN</td>\n",
       "      <td>Invertebrates</td>\n",
       "      <td>NaN</td>\n",
       "      <td>210.0</td>\n",
       "      <td>0.61</td>\n",
       "    </tr>\n",
       "  </tbody>\n",
       "</table>\n",
       "<p>264 rows × 8 columns</p>\n",
       "</div>"
      ],
      "text/plain": [
       "               Taxon     Unnamed: 1      Habitat  Unnamed: 3           Diet  \\\n",
       "0       Tachyglossus      aculeatus  Terrestrial         NaN  Invertebrates   \n",
       "1    Ornithorhynchus       anatinus      Aquatic         NaN  Invertebrates   \n",
       "2            Marmosa    microtarsus     Arboreal         NaN  Invertebrates   \n",
       "3          Didelphis    marsupialis  Terrestrial         NaN     Omnivorous   \n",
       "4          Planigale         gilesi  Terrestrial         NaN  Invertebrates   \n",
       "..               ...            ...          ...         ...            ...   \n",
       "259            Lepus        timidus  Terrestrial         NaN          Grass   \n",
       "260       Sylvilagus      audubonii  Terrestrial         NaN          Grass   \n",
       "261     Elephantulus       edwardii  Terrestrial         NaN  Invertebrates   \n",
       "262     Elephantulus      rugescens  Terrestrial         NaN  Invertebrates   \n",
       "263      Petrodromus  tetradactylus  Terrestrial         NaN  Invertebrates   \n",
       "\n",
       "     Unnamed: 5  Bodyweight   BMR  \n",
       "0           NaN      3410.0  0.17  \n",
       "1           NaN       690.0  0.31  \n",
       "2           NaN        14.5  1.79  \n",
       "3           NaN      1350.0  0.45  \n",
       "4           NaN         9.4  1.40  \n",
       "..          ...         ...   ...  \n",
       "259         NaN      3004.0  0.36  \n",
       "260         NaN       702.0  0.63  \n",
       "261         NaN        50.0  1.09  \n",
       "262         NaN        53.0  1.07  \n",
       "263         NaN       210.0  0.61  \n",
       "\n",
       "[264 rows x 8 columns]"
      ]
     },
     "execution_count": 18,
     "metadata": {},
     "output_type": "execute_result"
    }
   ],
   "source": [
    "df"
   ]
  },
  {
   "cell_type": "code",
   "execution_count": 19,
   "id": "cb616636",
   "metadata": {},
   "outputs": [],
   "source": [
    "df = df[['Bodyweight','BMR','Habitat']]"
   ]
  },
  {
   "cell_type": "code",
   "execution_count": 20,
   "id": "b6f6bf8c",
   "metadata": {},
   "outputs": [
    {
     "data": {
      "text/html": [
       "<div>\n",
       "<style scoped>\n",
       "    .dataframe tbody tr th:only-of-type {\n",
       "        vertical-align: middle;\n",
       "    }\n",
       "\n",
       "    .dataframe tbody tr th {\n",
       "        vertical-align: top;\n",
       "    }\n",
       "\n",
       "    .dataframe thead th {\n",
       "        text-align: right;\n",
       "    }\n",
       "</style>\n",
       "<table border=\"1\" class=\"dataframe\">\n",
       "  <thead>\n",
       "    <tr style=\"text-align: right;\">\n",
       "      <th></th>\n",
       "      <th>Bodyweight</th>\n",
       "      <th>BMR</th>\n",
       "      <th>Habitat</th>\n",
       "    </tr>\n",
       "  </thead>\n",
       "  <tbody>\n",
       "    <tr>\n",
       "      <th>0</th>\n",
       "      <td>3410.0</td>\n",
       "      <td>0.17</td>\n",
       "      <td>Terrestrial</td>\n",
       "    </tr>\n",
       "    <tr>\n",
       "      <th>1</th>\n",
       "      <td>690.0</td>\n",
       "      <td>0.31</td>\n",
       "      <td>Aquatic</td>\n",
       "    </tr>\n",
       "    <tr>\n",
       "      <th>2</th>\n",
       "      <td>14.5</td>\n",
       "      <td>1.79</td>\n",
       "      <td>Arboreal</td>\n",
       "    </tr>\n",
       "    <tr>\n",
       "      <th>3</th>\n",
       "      <td>1350.0</td>\n",
       "      <td>0.45</td>\n",
       "      <td>Terrestrial</td>\n",
       "    </tr>\n",
       "    <tr>\n",
       "      <th>4</th>\n",
       "      <td>9.4</td>\n",
       "      <td>1.40</td>\n",
       "      <td>Terrestrial</td>\n",
       "    </tr>\n",
       "    <tr>\n",
       "      <th>...</th>\n",
       "      <td>...</td>\n",
       "      <td>...</td>\n",
       "      <td>...</td>\n",
       "    </tr>\n",
       "    <tr>\n",
       "      <th>259</th>\n",
       "      <td>3004.0</td>\n",
       "      <td>0.36</td>\n",
       "      <td>Terrestrial</td>\n",
       "    </tr>\n",
       "    <tr>\n",
       "      <th>260</th>\n",
       "      <td>702.0</td>\n",
       "      <td>0.63</td>\n",
       "      <td>Terrestrial</td>\n",
       "    </tr>\n",
       "    <tr>\n",
       "      <th>261</th>\n",
       "      <td>50.0</td>\n",
       "      <td>1.09</td>\n",
       "      <td>Terrestrial</td>\n",
       "    </tr>\n",
       "    <tr>\n",
       "      <th>262</th>\n",
       "      <td>53.0</td>\n",
       "      <td>1.07</td>\n",
       "      <td>Terrestrial</td>\n",
       "    </tr>\n",
       "    <tr>\n",
       "      <th>263</th>\n",
       "      <td>210.0</td>\n",
       "      <td>0.61</td>\n",
       "      <td>Terrestrial</td>\n",
       "    </tr>\n",
       "  </tbody>\n",
       "</table>\n",
       "<p>264 rows × 3 columns</p>\n",
       "</div>"
      ],
      "text/plain": [
       "     Bodyweight   BMR      Habitat\n",
       "0        3410.0  0.17  Terrestrial\n",
       "1         690.0  0.31      Aquatic\n",
       "2          14.5  1.79     Arboreal\n",
       "3        1350.0  0.45  Terrestrial\n",
       "4           9.4  1.40  Terrestrial\n",
       "..          ...   ...          ...\n",
       "259      3004.0  0.36  Terrestrial\n",
       "260       702.0  0.63  Terrestrial\n",
       "261        50.0  1.09  Terrestrial\n",
       "262        53.0  1.07  Terrestrial\n",
       "263       210.0  0.61  Terrestrial\n",
       "\n",
       "[264 rows x 3 columns]"
      ]
     },
     "execution_count": 20,
     "metadata": {},
     "output_type": "execute_result"
    }
   ],
   "source": [
    "df.head(354)"
   ]
  },
  {
   "cell_type": "code",
   "execution_count": 21,
   "id": "d2c2b54a",
   "metadata": {},
   "outputs": [],
   "source": [
    "import numpy as np\n",
    "import matplotlib.pyplot as plt\n",
    "from scipy.optimize import curve_fit\n"
   ]
  },
  {
   "cell_type": "code",
   "execution_count": 22,
   "id": "ed4d4669",
   "metadata": {},
   "outputs": [],
   "source": [
    "# Extracting data from DataFrame\n",
    "W = df['Bodyweight'].values\n",
    "BMR = df['BMR'].values"
   ]
  },
  {
   "cell_type": "code",
   "execution_count": 23,
   "id": "1ef8dba7",
   "metadata": {},
   "outputs": [],
   "source": [
    "# defining the allometric law, ** means power\n",
    "def allometric_scaling(W,A,B): \n",
    "    return A*W**B"
   ]
  },
  {
   "cell_type": "code",
   "execution_count": 24,
   "id": "7201d15e",
   "metadata": {},
   "outputs": [],
   "source": [
    "params, covariance = curve_fit(allometric_scaling, W, BMR)"
   ]
  },
  {
   "cell_type": "code",
   "execution_count": 25,
   "id": "9f0f6fb1",
   "metadata": {},
   "outputs": [],
   "source": [
    "#params [0] means 1st parameter\n",
    "A_estimated = params[0]\n",
    "# params[1] means 2nd parameter\n",
    "B_estimated = params[1]"
   ]
  },
  {
   "cell_type": "code",
   "execution_count": 26,
   "id": "6c9885a9",
   "metadata": {},
   "outputs": [],
   "source": [
    "from sklearn.linear_model import LinearRegression"
   ]
  },
  {
   "cell_type": "code",
   "execution_count": 27,
   "id": "014ca38b",
   "metadata": {},
   "outputs": [],
   "source": [
    "model= LinearRegression()"
   ]
  },
  {
   "cell_type": "code",
   "execution_count": 28,
   "id": "de3ed52c",
   "metadata": {
    "scrolled": true
   },
   "outputs": [
    {
     "data": {
      "text/plain": [
       "<function matplotlib.pyplot.show(close=None, block=None)>"
      ]
     },
     "execution_count": 28,
     "metadata": {},
     "output_type": "execute_result"
    },
    {
     "data": {
      "image/png": "[encoded data removed]",
      "text/plain": [
       "<Figure size 640x480 with 1 Axes>"
      ]
     },
     "metadata": {},
     "output_type": "display_data"
    }
   ],
   "source": [
    "plt.scatter(W, BMR, label='Original Data')\n",
    "plt.plot(W, allometric_scaling(W, A_estimated, B_estimated),color='red', label=f'Fitted Curve')\n",
    "plt.xscale('log') # log scale on X- axis\n",
    "plt.yscale('log') # log scale on Y- axis\n",
    "plt.xlabel('log Body Weight')\n",
    "plt.ylabel('logBMR')\n",
    "plt.title('Allometric Scaling Law')\n",
    "plt.legend()\n",
    "plt.show"
   ]
  },
  {
   "cell_type": "code",
   "execution_count": 29,
   "id": "ee87ca9f",
   "metadata": {},
   "outputs": [
    {
     "name": "stdout",
     "output_type": "stream",
     "text": [
      "Estimated A: 26.008922632872096\n",
      "Estimated B: -0.8207557308038078\n"
     ]
    }
   ],
   "source": [
    "print(\"Estimated A:\", A_estimated)\n",
    "print(\"Estimated B:\", B_estimated)"
   ]
  },
  {
   "cell_type": "code",
   "execution_count": 30,
   "id": "e12c3bf0",
   "metadata": {},
   "outputs": [],
   "source": [
    "# subset the terrestrial data\n",
    "df_Terrestrial=df[df['Habitat'] == 'Terrestrial']\n",
    "print= df_Terrestrial"
   ]
  },
  {
   "cell_type": "code",
   "execution_count": 31,
   "id": "f68f2b32",
   "metadata": {},
   "outputs": [
    {
     "name": "stdout",
     "output_type": "stream",
     "text": [
      "<class 'pandas.core.frame.DataFrame'>\n",
      "Index: 176 entries, 0 to 263\n",
      "Data columns (total 3 columns):\n",
      " #   Column      Non-Null Count  Dtype  \n",
      "---  ------      --------------  -----  \n",
      " 0   Bodyweight  176 non-null    float64\n",
      " 1   BMR         176 non-null    float64\n",
      " 2   Habitat     176 non-null    object \n",
      "dtypes: float64(2), object(1)\n",
      "memory usage: 5.5+ KB\n"
     ]
    }
   ],
   "source": [
    "df_Terrestrial.info()"
   ]
  },
  {
   "cell_type": "code",
   "execution_count": 32,
   "id": "35c9b88e",
   "metadata": {},
   "outputs": [
    {
     "data": {
      "text/html": [
       "<div>\n",
       "<style scoped>\n",
       "    .dataframe tbody tr th:only-of-type {\n",
       "        vertical-align: middle;\n",
       "    }\n",
       "\n",
       "    .dataframe tbody tr th {\n",
       "        vertical-align: top;\n",
       "    }\n",
       "\n",
       "    .dataframe thead th {\n",
       "        text-align: right;\n",
       "    }\n",
       "</style>\n",
       "<table border=\"1\" class=\"dataframe\">\n",
       "  <thead>\n",
       "    <tr style=\"text-align: right;\">\n",
       "      <th></th>\n",
       "      <th>Bodyweight</th>\n",
       "      <th>BMR</th>\n",
       "      <th>Habitat</th>\n",
       "    </tr>\n",
       "  </thead>\n",
       "  <tbody>\n",
       "    <tr>\n",
       "      <th>0</th>\n",
       "      <td>3410.0</td>\n",
       "      <td>0.17</td>\n",
       "      <td>Terrestrial</td>\n",
       "    </tr>\n",
       "    <tr>\n",
       "      <th>3</th>\n",
       "      <td>1350.0</td>\n",
       "      <td>0.45</td>\n",
       "      <td>Terrestrial</td>\n",
       "    </tr>\n",
       "    <tr>\n",
       "      <th>4</th>\n",
       "      <td>9.4</td>\n",
       "      <td>1.40</td>\n",
       "      <td>Terrestrial</td>\n",
       "    </tr>\n",
       "    <tr>\n",
       "      <th>5</th>\n",
       "      <td>7.1</td>\n",
       "      <td>1.59</td>\n",
       "      <td>Terrestrial</td>\n",
       "    </tr>\n",
       "    <tr>\n",
       "      <th>6</th>\n",
       "      <td>8.5</td>\n",
       "      <td>1.26</td>\n",
       "      <td>Terrestrial</td>\n",
       "    </tr>\n",
       "    <tr>\n",
       "      <th>...</th>\n",
       "      <td>...</td>\n",
       "      <td>...</td>\n",
       "      <td>...</td>\n",
       "    </tr>\n",
       "    <tr>\n",
       "      <th>259</th>\n",
       "      <td>3004.0</td>\n",
       "      <td>0.36</td>\n",
       "      <td>Terrestrial</td>\n",
       "    </tr>\n",
       "    <tr>\n",
       "      <th>260</th>\n",
       "      <td>702.0</td>\n",
       "      <td>0.63</td>\n",
       "      <td>Terrestrial</td>\n",
       "    </tr>\n",
       "    <tr>\n",
       "      <th>261</th>\n",
       "      <td>50.0</td>\n",
       "      <td>1.09</td>\n",
       "      <td>Terrestrial</td>\n",
       "    </tr>\n",
       "    <tr>\n",
       "      <th>262</th>\n",
       "      <td>53.0</td>\n",
       "      <td>1.07</td>\n",
       "      <td>Terrestrial</td>\n",
       "    </tr>\n",
       "    <tr>\n",
       "      <th>263</th>\n",
       "      <td>210.0</td>\n",
       "      <td>0.61</td>\n",
       "      <td>Terrestrial</td>\n",
       "    </tr>\n",
       "  </tbody>\n",
       "</table>\n",
       "<p>176 rows × 3 columns</p>\n",
       "</div>"
      ],
      "text/plain": [
       "     Bodyweight   BMR      Habitat\n",
       "0        3410.0  0.17  Terrestrial\n",
       "3        1350.0  0.45  Terrestrial\n",
       "4           9.4  1.40  Terrestrial\n",
       "5           7.1  1.59  Terrestrial\n",
       "6           8.5  1.26  Terrestrial\n",
       "..          ...   ...          ...\n",
       "259      3004.0  0.36  Terrestrial\n",
       "260       702.0  0.63  Terrestrial\n",
       "261        50.0  1.09  Terrestrial\n",
       "262        53.0  1.07  Terrestrial\n",
       "263       210.0  0.61  Terrestrial\n",
       "\n",
       "[176 rows x 3 columns]"
      ]
     },
     "execution_count": 32,
     "metadata": {},
     "output_type": "execute_result"
    }
   ],
   "source": [
    "df_Terrestrial.head(176)"
   ]
  },
  {
   "cell_type": "code",
   "execution_count": 33,
   "id": "b5128c59",
   "metadata": {},
   "outputs": [],
   "source": [
    "# Extracting data from DataFrame\n",
    "W = df_Terrestrial['Bodyweight'].values\n",
    "BMR = df_Terrestrial['BMR'].values"
   ]
  },
  {
   "cell_type": "code",
   "execution_count": 36,
   "id": "ec4322ba",
   "metadata": {},
   "outputs": [],
   "source": [
    "def allometric_scaling(W,A,B):\n",
    "    return A*W**B"
   ]
  },
  {
   "cell_type": "code",
   "execution_count": 37,
   "id": "ce0e97d2",
   "metadata": {},
   "outputs": [],
   "source": [
    "params, covariance = curve_fit(allometric_scaling, W, BMR)"
   ]
  },
  {
   "cell_type": "code",
   "execution_count": 38,
   "id": "262ef45d",
   "metadata": {},
   "outputs": [],
   "source": [
    "A1_estimated = params[0]\n",
    "B1_estimated = params[1]"
   ]
  },
  {
   "cell_type": "code",
   "execution_count": 39,
   "id": "3a1ff863",
   "metadata": {},
   "outputs": [
    {
     "data": {
      "text/plain": [
       "<function matplotlib.pyplot.show(close=None, block=None)>"
      ]
     },
     "execution_count": 39,
     "metadata": {},
     "output_type": "execute_result"
    },
    {
     "data": {
      "image/png": "[encoded data removed]",
      "text/plain": [
       "<Figure size 640x480 with 1 Axes>"
      ]
     },
     "metadata": {},
     "output_type": "display_data"
    }
   ],
   "source": [
    "plt.scatter(W, BMR, label='Original Data')\n",
    "plt.plot(W, allometric_scaling(W, A1_estimated, B1_estimated),color='red', label=f'Fitted Curve')\n",
    "plt.xscale('log') # log scale on X- axis\n",
    "plt.yscale('log') # log scale on Y- axis\n",
    "plt.xlabel('log Body Weight')\n",
    "plt.ylabel('logBMR')\n",
    "plt.title('Allometric Scaling Law')\n",
    "plt.legend()\n",
    "plt.show"
   ]
  },
  {
   "cell_type": "code",
   "execution_count": 40,
   "id": "b852f185",
   "metadata": {},
   "outputs": [],
   "source": [
    "# subset the aquatic data\n",
    "df_Aquatic=df[df['Habitat'] == 'Aquatic']\n",
    "print= df_Aquatic"
   ]
  },
  {
   "cell_type": "code",
   "execution_count": 41,
   "id": "529972e9",
   "metadata": {},
   "outputs": [
    {
     "name": "stdout",
     "output_type": "stream",
     "text": [
      "<class 'pandas.core.frame.DataFrame'>\n",
      "Index: 9 entries, 1 to 142\n",
      "Data columns (total 3 columns):\n",
      " #   Column      Non-Null Count  Dtype  \n",
      "---  ------      --------------  -----  \n",
      " 0   Bodyweight  9 non-null      float64\n",
      " 1   BMR         9 non-null      float64\n",
      " 2   Habitat     9 non-null      object \n",
      "dtypes: float64(2), object(1)\n",
      "memory usage: 288.0+ bytes\n"
     ]
    }
   ],
   "source": [
    "df_Aquatic.info()"
   ]
  },
  {
   "cell_type": "code",
   "execution_count": 42,
   "id": "de000b23",
   "metadata": {},
   "outputs": [
    {
     "data": {
      "text/html": [
       "<div>\n",
       "<style scoped>\n",
       "    .dataframe tbody tr th:only-of-type {\n",
       "        vertical-align: middle;\n",
       "    }\n",
       "\n",
       "    .dataframe tbody tr th {\n",
       "        vertical-align: top;\n",
       "    }\n",
       "\n",
       "    .dataframe thead th {\n",
       "        text-align: right;\n",
       "    }\n",
       "</style>\n",
       "<table border=\"1\" class=\"dataframe\">\n",
       "  <thead>\n",
       "    <tr style=\"text-align: right;\">\n",
       "      <th></th>\n",
       "      <th>Bodyweight</th>\n",
       "      <th>BMR</th>\n",
       "      <th>Habitat</th>\n",
       "    </tr>\n",
       "  </thead>\n",
       "  <tbody>\n",
       "    <tr>\n",
       "      <th>1</th>\n",
       "      <td>690.0</td>\n",
       "      <td>0.31</td>\n",
       "      <td>Aquatic</td>\n",
       "    </tr>\n",
       "    <tr>\n",
       "      <th>46</th>\n",
       "      <td>790.0</td>\n",
       "      <td>0.33</td>\n",
       "      <td>Aquatic</td>\n",
       "    </tr>\n",
       "    <tr>\n",
       "      <th>128</th>\n",
       "      <td>10000.0</td>\n",
       "      <td>0.45</td>\n",
       "      <td>Aquatic</td>\n",
       "    </tr>\n",
       "    <tr>\n",
       "      <th>129</th>\n",
       "      <td>18000.0</td>\n",
       "      <td>0.72</td>\n",
       "      <td>Aquatic</td>\n",
       "    </tr>\n",
       "    <tr>\n",
       "      <th>138</th>\n",
       "      <td>54000.0</td>\n",
       "      <td>0.39</td>\n",
       "      <td>Aquatic</td>\n",
       "    </tr>\n",
       "    <tr>\n",
       "      <th>139</th>\n",
       "      <td>27400.0</td>\n",
       "      <td>0.48</td>\n",
       "      <td>Aquatic</td>\n",
       "    </tr>\n",
       "    <tr>\n",
       "      <th>140</th>\n",
       "      <td>38600.0</td>\n",
       "      <td>0.38</td>\n",
       "      <td>Aquatic</td>\n",
       "    </tr>\n",
       "    <tr>\n",
       "      <th>141</th>\n",
       "      <td>175000.0</td>\n",
       "      <td>0.34</td>\n",
       "      <td>Aquatic</td>\n",
       "    </tr>\n",
       "    <tr>\n",
       "      <th>142</th>\n",
       "      <td>28500.0</td>\n",
       "      <td>0.68</td>\n",
       "      <td>Aquatic</td>\n",
       "    </tr>\n",
       "  </tbody>\n",
       "</table>\n",
       "</div>"
      ],
      "text/plain": [
       "     Bodyweight   BMR  Habitat\n",
       "1         690.0  0.31  Aquatic\n",
       "46        790.0  0.33  Aquatic\n",
       "128     10000.0  0.45  Aquatic\n",
       "129     18000.0  0.72  Aquatic\n",
       "138     54000.0  0.39  Aquatic\n",
       "139     27400.0  0.48  Aquatic\n",
       "140     38600.0  0.38  Aquatic\n",
       "141    175000.0  0.34  Aquatic\n",
       "142     28500.0  0.68  Aquatic"
      ]
     },
     "execution_count": 42,
     "metadata": {},
     "output_type": "execute_result"
    }
   ],
   "source": [
    "df_Aquatic.head(9)"
   ]
  },
  {
   "cell_type": "code",
   "execution_count": 43,
   "id": "98b45c46",
   "metadata": {},
   "outputs": [],
   "source": [
    "# Extracting data from DataFrame\n",
    "W = df_Aquatic['Bodyweight'].values\n",
    "BMR = df_Aquatic['BMR'].values"
   ]
  },
  {
   "cell_type": "code",
   "execution_count": 44,
   "id": "d1f2ab9e",
   "metadata": {},
   "outputs": [],
   "source": [
    "def allometric_scaling(W,A,B):\n",
    "    return A*W**B"
   ]
  },
  {
   "cell_type": "code",
   "execution_count": 45,
   "id": "06b8dbc1",
   "metadata": {},
   "outputs": [],
   "source": [
    "params, covariance = curve_fit(allometric_scaling, W, BMR)"
   ]
  },
  {
   "cell_type": "code",
   "execution_count": 46,
   "id": "98069c68",
   "metadata": {},
   "outputs": [],
   "source": [
    "A_estimated = params[0]\n",
    "B_estimated = params[1]"
   ]
  },
  {
   "cell_type": "code",
   "execution_count": 47,
   "id": "910fd546",
   "metadata": {},
   "outputs": [
    {
     "data": {
      "text/plain": [
       "<function matplotlib.pyplot.show(close=None, block=None)>"
      ]
     },
     "execution_count": 47,
     "metadata": {},
     "output_type": "execute_result"
    },
    {
     "data": {
      "image/png": "[encoded data removed]",
      "text/plain": [
       "<Figure size 640x480 with 1 Axes>"
      ]
     },
     "metadata": {},
     "output_type": "display_data"
    }
   ],
   "source": [
    "plt.scatter(W, BMR, label='Original Data')\n",
    "plt.plot(W, allometric_scaling(W, A_estimated, B_estimated),color='red', label=f'Fitted Curve')\n",
    "plt.xscale('log') # log scale on X- axis\n",
    "plt.yscale('log') # log scale on Y- axis\n",
    "plt.xlabel('log Body Weight')\n",
    "plt.ylabel('logBMR')\n",
    "plt.title('Allometric Scaling Law')\n",
    "plt.legend()\n",
    "plt.show"
   ]
  },
  {
   "cell_type": "code",
   "execution_count": 48,
   "id": "d1f67a25",
   "metadata": {},
   "outputs": [],
   "source": [
    "# subset the aquatic data\n",
    "df_Arboreal=df[df['Habitat'] == 'Arboreal']\n",
    "print= df_Arboreal"
   ]
  },
  {
   "cell_type": "code",
   "execution_count": 49,
   "id": "cdb6c2be",
   "metadata": {},
   "outputs": [
    {
     "name": "stdout",
     "output_type": "stream",
     "text": [
      "<class 'pandas.core.frame.DataFrame'>\n",
      "Index: 71 entries, 2 to 252\n",
      "Data columns (total 3 columns):\n",
      " #   Column      Non-Null Count  Dtype  \n",
      "---  ------      --------------  -----  \n",
      " 0   Bodyweight  71 non-null     float64\n",
      " 1   BMR         71 non-null     float64\n",
      " 2   Habitat     71 non-null     object \n",
      "dtypes: float64(2), object(1)\n",
      "memory usage: 2.2+ KB\n"
     ]
    }
   ],
   "source": [
    "df_Arboreal.info()"
   ]
  },
  {
   "cell_type": "code",
   "execution_count": 50,
   "id": "ca6ebeae",
   "metadata": {},
   "outputs": [
    {
     "data": {
      "text/html": [
       "<div>\n",
       "<style scoped>\n",
       "    .dataframe tbody tr th:only-of-type {\n",
       "        vertical-align: middle;\n",
       "    }\n",
       "\n",
       "    .dataframe tbody tr th {\n",
       "        vertical-align: top;\n",
       "    }\n",
       "\n",
       "    .dataframe thead th {\n",
       "        text-align: right;\n",
       "    }\n",
       "</style>\n",
       "<table border=\"1\" class=\"dataframe\">\n",
       "  <thead>\n",
       "    <tr style=\"text-align: right;\">\n",
       "      <th></th>\n",
       "      <th>Bodyweight</th>\n",
       "      <th>BMR</th>\n",
       "      <th>Habitat</th>\n",
       "    </tr>\n",
       "  </thead>\n",
       "  <tbody>\n",
       "    <tr>\n",
       "      <th>2</th>\n",
       "      <td>14.5</td>\n",
       "      <td>1.79</td>\n",
       "      <td>Arboreal</td>\n",
       "    </tr>\n",
       "    <tr>\n",
       "      <th>9</th>\n",
       "      <td>157.2</td>\n",
       "      <td>0.81</td>\n",
       "      <td>Arboreal</td>\n",
       "    </tr>\n",
       "    <tr>\n",
       "      <th>22</th>\n",
       "      <td>1982.0</td>\n",
       "      <td>0.32</td>\n",
       "      <td>Arboreal</td>\n",
       "    </tr>\n",
       "    <tr>\n",
       "      <th>23</th>\n",
       "      <td>70.0</td>\n",
       "      <td>0.86</td>\n",
       "      <td>Arboreal</td>\n",
       "    </tr>\n",
       "    <tr>\n",
       "      <th>24</th>\n",
       "      <td>128.0</td>\n",
       "      <td>0.69</td>\n",
       "      <td>Arboreal</td>\n",
       "    </tr>\n",
       "    <tr>\n",
       "      <th>...</th>\n",
       "      <td>...</td>\n",
       "      <td>...</td>\n",
       "      <td>...</td>\n",
       "    </tr>\n",
       "    <tr>\n",
       "      <th>246</th>\n",
       "      <td>4507.0</td>\n",
       "      <td>0.44</td>\n",
       "      <td>Arboreal</td>\n",
       "    </tr>\n",
       "    <tr>\n",
       "      <th>247</th>\n",
       "      <td>3849.0</td>\n",
       "      <td>0.49</td>\n",
       "      <td>Arboreal</td>\n",
       "    </tr>\n",
       "    <tr>\n",
       "      <th>248</th>\n",
       "      <td>2687.0</td>\n",
       "      <td>0.58</td>\n",
       "      <td>Arboreal</td>\n",
       "    </tr>\n",
       "    <tr>\n",
       "      <th>250</th>\n",
       "      <td>2630.0</td>\n",
       "      <td>0.23</td>\n",
       "      <td>Arboreal</td>\n",
       "    </tr>\n",
       "    <tr>\n",
       "      <th>252</th>\n",
       "      <td>498.0</td>\n",
       "      <td>0.63</td>\n",
       "      <td>Arboreal</td>\n",
       "    </tr>\n",
       "  </tbody>\n",
       "</table>\n",
       "<p>71 rows × 3 columns</p>\n",
       "</div>"
      ],
      "text/plain": [
       "     Bodyweight   BMR   Habitat\n",
       "2          14.5  1.79  Arboreal\n",
       "9         157.2  0.81  Arboreal\n",
       "22       1982.0  0.32  Arboreal\n",
       "23         70.0  0.86  Arboreal\n",
       "24        128.0  0.69  Arboreal\n",
       "..          ...   ...       ...\n",
       "246      4507.0  0.44  Arboreal\n",
       "247      3849.0  0.49  Arboreal\n",
       "248      2687.0  0.58  Arboreal\n",
       "250      2630.0  0.23  Arboreal\n",
       "252       498.0  0.63  Arboreal\n",
       "\n",
       "[71 rows x 3 columns]"
      ]
     },
     "execution_count": 50,
     "metadata": {},
     "output_type": "execute_result"
    }
   ],
   "source": [
    "df_Arboreal.head(71)"
   ]
  },
  {
   "cell_type": "code",
   "execution_count": 51,
   "id": "582f6bee",
   "metadata": {},
   "outputs": [],
   "source": [
    "# Extracting data from DataFrame\n",
    "W = df_Arboreal['Bodyweight'].values\n",
    "BMR = df_Arboreal['BMR'].values"
   ]
  },
  {
   "cell_type": "code",
   "execution_count": 52,
   "id": "84f2f158",
   "metadata": {},
   "outputs": [],
   "source": [
    "def allometric_scaling(W,A,B):\n",
    "    return A*W**B"
   ]
  },
  {
   "cell_type": "code",
   "execution_count": 53,
   "id": "4a41f0a8",
   "metadata": {},
   "outputs": [],
   "source": [
    "params, covariance = curve_fit(allometric_scaling, W, BMR)"
   ]
  },
  {
   "cell_type": "code",
   "execution_count": 54,
   "id": "95f4590f",
   "metadata": {},
   "outputs": [],
   "source": [
    "A_estimated = params[0]\n",
    "B_estimated = params[1]"
   ]
  },
  {
   "cell_type": "code",
   "execution_count": 55,
   "id": "23775a6d",
   "metadata": {},
   "outputs": [
    {
     "data": {
      "text/plain": [
       "<function matplotlib.pyplot.show(close=None, block=None)>"
      ]
     },
     "execution_count": 55,
     "metadata": {},
     "output_type": "execute_result"
    },
    {
     "data": {
      "image/png": "[encoded data removed]",
      "text/plain": [
       "<Figure size 640x480 with 1 Axes>"
      ]
     },
     "metadata": {},
     "output_type": "display_data"
    }
   ],
   "source": [
    "plt.scatter(W, BMR, label='Original Data')\n",
    "plt.plot(W, allometric_scaling(W, A_estimated, B_estimated),color='red', label=f'Fitted Curve')\n",
    "plt.xscale('log') # log scale on X- axis\n",
    "plt.yscale('log') # log scale on Y- axis\n",
    "plt.xlabel('log Body Weight')\n",
    "plt.ylabel('logBMR')\n",
    "plt.title('Allometric Scaling Law')\n",
    "plt.legend()\n",
    "plt.show"
   ]
  },
  {
   "cell_type": "code",
   "execution_count": null,
   "id": "3584f9fa",
   "metadata": {},
   "outputs": [],
   "source": []
  },
  {
   "cell_type": "code",
   "execution_count": null,
   "id": "9af345a2",
   "metadata": {},
   "outputs": [],
   "source": []
  }
 ],
 "metadata": {
  "kernelspec": {
   "display_name": "Python 3 (ipykernel)",
   "language": "python",
   "name": "python3"
  },
  "language_info": {
   "codemirror_mode": {
    "name": "ipython",
    "version": 3
   },
   "file_extension": ".py",
   "mimetype": "text/x-python",
   "name": "python",
   "nbconvert_exporter": "python",
   "pygments_lexer": "ipython3",
   "version": "3.11.5"
  }
 },
 "nbformat": 4,
 "nbformat_minor": 5
}
